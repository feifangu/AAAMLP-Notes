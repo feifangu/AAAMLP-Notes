{
 "cells": [
  {
   "cell_type": "markdown",
   "id": "b810e24e-c980-461c-a169-1752ccf9f32b",
   "metadata": {},
   "source": [
    "Cross-validation: a step in the process of building a machine learning model which helps up ensure that our model fit the data accurately and also ensures that we do not overfit."
   ]
  },
  {
   "cell_type": "markdown",
   "id": "8197356b-11c2-4372-bd5b-0bf3e57d41d9",
   "metadata": {},
   "source": [
    "## Overfitting"
   ]
  },
  {
   "cell_type": "markdown",
   "id": "c2bc0483-45dc-4bd2-bbe7-e5a5bbda4c9d",
   "metadata": {},
   "source": [
    "Below is an example of Decision Tree to illustrate \"overfitting\"."
   ]
  },
  {
   "cell_type": "code",
   "execution_count": 2,
   "id": "95a5b524-c4be-4ec2-a016-c38177967a59",
   "metadata": {
    "tags": []
   },
   "outputs": [],
   "source": [
    "import pandas as pd\n",
    "import numpy as np"
   ]
  },
  {
   "cell_type": "code",
   "execution_count": 10,
   "id": "15d8a74e-a21c-456a-acbe-71a6f414f55e",
   "metadata": {
    "tags": []
   },
   "outputs": [],
   "source": [
    "df = pd.read_csv(\"https://raw.githubusercontent.com/aniruddhachoudhury/Red-Wine-Quality/master/winequality-red.csv\")"
   ]
  },
  {
   "cell_type": "code",
   "execution_count": 33,
   "id": "9274a8f5-8cd3-4dfc-82f9-2be72ec57e38",
   "metadata": {
    "tags": []
   },
   "outputs": [
    {
     "data": {
      "text/html": [
       "<div>\n",
       "<style scoped>\n",
       "    .dataframe tbody tr th:only-of-type {\n",
       "        vertical-align: middle;\n",
       "    }\n",
       "\n",
       "    .dataframe tbody tr th {\n",
       "        vertical-align: top;\n",
       "    }\n",
       "\n",
       "    .dataframe thead th {\n",
       "        text-align: right;\n",
       "    }\n",
       "</style>\n",
       "<table border=\"1\" class=\"dataframe\">\n",
       "  <thead>\n",
       "    <tr style=\"text-align: right;\">\n",
       "      <th></th>\n",
       "      <th>fixed acidity</th>\n",
       "      <th>volatile acidity</th>\n",
       "      <th>citric acid</th>\n",
       "      <th>residual sugar</th>\n",
       "      <th>chlorides</th>\n",
       "      <th>free sulfur dioxide</th>\n",
       "      <th>total sulfur dioxide</th>\n",
       "      <th>density</th>\n",
       "      <th>pH</th>\n",
       "      <th>sulphates</th>\n",
       "      <th>alcohol</th>\n",
       "      <th>quality</th>\n",
       "    </tr>\n",
       "  </thead>\n",
       "  <tbody>\n",
       "    <tr>\n",
       "      <th>0</th>\n",
       "      <td>13.3</td>\n",
       "      <td>0.34</td>\n",
       "      <td>0.52</td>\n",
       "      <td>3.2</td>\n",
       "      <td>0.094</td>\n",
       "      <td>17.0</td>\n",
       "      <td>53.0</td>\n",
       "      <td>1.00140</td>\n",
       "      <td>3.05</td>\n",
       "      <td>0.81</td>\n",
       "      <td>9.5</td>\n",
       "      <td>3</td>\n",
       "    </tr>\n",
       "    <tr>\n",
       "      <th>1</th>\n",
       "      <td>7.7</td>\n",
       "      <td>0.41</td>\n",
       "      <td>0.76</td>\n",
       "      <td>1.8</td>\n",
       "      <td>0.611</td>\n",
       "      <td>8.0</td>\n",
       "      <td>45.0</td>\n",
       "      <td>0.99680</td>\n",
       "      <td>3.06</td>\n",
       "      <td>1.26</td>\n",
       "      <td>9.4</td>\n",
       "      <td>2</td>\n",
       "    </tr>\n",
       "    <tr>\n",
       "      <th>2</th>\n",
       "      <td>7.5</td>\n",
       "      <td>0.40</td>\n",
       "      <td>0.18</td>\n",
       "      <td>1.6</td>\n",
       "      <td>0.079</td>\n",
       "      <td>24.0</td>\n",
       "      <td>58.0</td>\n",
       "      <td>0.99650</td>\n",
       "      <td>3.34</td>\n",
       "      <td>0.58</td>\n",
       "      <td>9.4</td>\n",
       "      <td>2</td>\n",
       "    </tr>\n",
       "    <tr>\n",
       "      <th>3</th>\n",
       "      <td>9.2</td>\n",
       "      <td>0.67</td>\n",
       "      <td>0.10</td>\n",
       "      <td>3.0</td>\n",
       "      <td>0.091</td>\n",
       "      <td>12.0</td>\n",
       "      <td>48.0</td>\n",
       "      <td>0.99888</td>\n",
       "      <td>3.31</td>\n",
       "      <td>0.54</td>\n",
       "      <td>9.5</td>\n",
       "      <td>3</td>\n",
       "    </tr>\n",
       "    <tr>\n",
       "      <th>4</th>\n",
       "      <td>6.7</td>\n",
       "      <td>0.56</td>\n",
       "      <td>0.09</td>\n",
       "      <td>2.9</td>\n",
       "      <td>0.079</td>\n",
       "      <td>7.0</td>\n",
       "      <td>22.0</td>\n",
       "      <td>0.99669</td>\n",
       "      <td>3.46</td>\n",
       "      <td>0.61</td>\n",
       "      <td>10.2</td>\n",
       "      <td>2</td>\n",
       "    </tr>\n",
       "  </tbody>\n",
       "</table>\n",
       "</div>"
      ],
      "text/plain": [
       "   fixed acidity  volatile acidity  citric acid  residual sugar  chlorides  \\\n",
       "0           13.3              0.34         0.52             3.2      0.094   \n",
       "1            7.7              0.41         0.76             1.8      0.611   \n",
       "2            7.5              0.40         0.18             1.6      0.079   \n",
       "3            9.2              0.67         0.10             3.0      0.091   \n",
       "4            6.7              0.56         0.09             2.9      0.079   \n",
       "\n",
       "   free sulfur dioxide  total sulfur dioxide  density    pH  sulphates  \\\n",
       "0                 17.0                  53.0  1.00140  3.05       0.81   \n",
       "1                  8.0                  45.0  0.99680  3.06       1.26   \n",
       "2                 24.0                  58.0  0.99650  3.34       0.58   \n",
       "3                 12.0                  48.0  0.99888  3.31       0.54   \n",
       "4                  7.0                  22.0  0.99669  3.46       0.61   \n",
       "\n",
       "   alcohol  quality  \n",
       "0      9.5        3  \n",
       "1      9.4        2  \n",
       "2      9.4        2  \n",
       "3      9.5        3  \n",
       "4     10.2        2  "
      ]
     },
     "execution_count": 33,
     "metadata": {},
     "output_type": "execute_result"
    }
   ],
   "source": [
    "df.head()"
   ]
  },
  {
   "cell_type": "code",
   "execution_count": 34,
   "id": "fadc55ff-968c-470c-8d3d-f5346d772e69",
   "metadata": {
    "tags": []
   },
   "outputs": [
    {
     "data": {
      "text/plain": [
       "quality\n",
       "0     10\n",
       "1     53\n",
       "2    681\n",
       "3    638\n",
       "4    199\n",
       "5     18\n",
       "dtype: int64"
      ]
     },
     "execution_count": 34,
     "metadata": {},
     "output_type": "execute_result"
    }
   ],
   "source": [
    "df.groupby('quality').size()"
   ]
  },
  {
   "cell_type": "code",
   "execution_count": 5,
   "id": "7cfd4652-c614-497e-a39f-dae3e28cb549",
   "metadata": {
    "tags": []
   },
   "outputs": [],
   "source": [
    "quality_mapping = {\n",
    " 3: 0,\n",
    " 4: 1,\n",
    " 5: 2,\n",
    " 6: 3,\n",
    " 7: 4,\n",
    " 8: 5\n",
    "}"
   ]
  },
  {
   "cell_type": "code",
   "execution_count": 11,
   "id": "6f002949-dff1-416b-a16b-f222062dfa62",
   "metadata": {
    "tags": []
   },
   "outputs": [],
   "source": [
    "# map y to 0 ~ 5\n",
    "df['quality'] = df.quality.map(quality_mapping)"
   ]
  },
  {
   "cell_type": "code",
   "execution_count": 12,
   "id": "404a19d3-796a-4224-bb46-ded16465a63d",
   "metadata": {
    "tags": []
   },
   "outputs": [],
   "source": [
    "# shuffle the dataframe (frac = 1 meaning keeping the same rows of data)\n",
    "df = df.sample(frac=1).reset_index(drop=True)\n"
   ]
  },
  {
   "cell_type": "code",
   "execution_count": 14,
   "id": "fdc17b98-e0ef-4939-9cc7-6000741d6bf4",
   "metadata": {
    "tags": []
   },
   "outputs": [],
   "source": [
    "# top 1000 rows are selected\n",
    "# for training\n",
    "df_train = df.head(1000)\n",
    "# bottom 599 values are selected\n",
    "# for testing/validation\n",
    "df_test = df.tail(599)"
   ]
  },
  {
   "cell_type": "code",
   "execution_count": 35,
   "id": "2df8ccfd-2e5a-498f-b642-bf2a2dad85d5",
   "metadata": {
    "tags": []
   },
   "outputs": [
    {
     "data": {
      "text/plain": [
       "quality\n",
       "0      6\n",
       "1     27\n",
       "2    428\n",
       "3    404\n",
       "4    122\n",
       "5     13\n",
       "dtype: int64"
      ]
     },
     "execution_count": 35,
     "metadata": {},
     "output_type": "execute_result"
    }
   ],
   "source": [
    "df_train.groupby('quality').size()"
   ]
  },
  {
   "cell_type": "code",
   "execution_count": 16,
   "id": "e4685b21-6f0f-400f-93f4-b189c29e11cc",
   "metadata": {
    "tags": []
   },
   "outputs": [],
   "source": [
    "# train a decision tree model\n",
    "from sklearn import tree\n",
    "from sklearn import metrics\n",
    "\n",
    "# initialize a tree classfier\n",
    "clf = tree.DecisionTreeClassifier(max_depth=3)\n",
    "\n",
    "# specify the to be trained columns\n",
    "cols = ['fixed acidity',\n",
    " 'volatile acidity',\n",
    " 'citric acid',\n",
    " 'residual sugar',\n",
    " 'chlorides',\n",
    " 'free sulfur dioxide',\n",
    " 'total sulfur dioxide',\n",
    " 'density',\n",
    " 'pH',\n",
    " 'sulphates',\n",
    " 'alcohol']"
   ]
  },
  {
   "cell_type": "code",
   "execution_count": 17,
   "id": "22cf0dbf-7793-4fec-a2b2-50c9f1078bd9",
   "metadata": {
    "tags": []
   },
   "outputs": [
    {
     "data": {
      "text/plain": [
       "DecisionTreeClassifier(max_depth=3)"
      ]
     },
     "execution_count": 17,
     "metadata": {},
     "output_type": "execute_result"
    }
   ],
   "source": [
    "# train (fit) the model on the provided features to predict the mapped quality\n",
    "clf.fit(df_train[cols],df_train.quality)"
   ]
  },
  {
   "cell_type": "code",
   "execution_count": 18,
   "id": "c95f63ac-0fac-4ff7-b128-bff3c4cba168",
   "metadata": {
    "tags": []
   },
   "outputs": [],
   "source": [
    "# generate predictions of the training set\n",
    "train_predictions = clf.predict(df_train[cols])"
   ]
  },
  {
   "cell_type": "code",
   "execution_count": 20,
   "id": "85bc1928-94f6-4dc5-902f-1f0aaa09d428",
   "metadata": {
    "tags": []
   },
   "outputs": [],
   "source": [
    "# generate predictions of the test set\n",
    "test_predictions = clf.predict(df_test[cols])"
   ]
  },
  {
   "cell_type": "code",
   "execution_count": 21,
   "id": "74b61fb2-34a7-4ce4-b3ef-a397eeb60438",
   "metadata": {
    "tags": []
   },
   "outputs": [],
   "source": [
    "# calculate the accuracy of predictions on training set\n",
    "train_accuracy = metrics.accuracy_score(df_train.quality,train_predictions)"
   ]
  },
  {
   "cell_type": "code",
   "execution_count": 22,
   "id": "a639234d-c622-4cbf-85e9-b850e29d0202",
   "metadata": {
    "tags": []
   },
   "outputs": [],
   "source": [
    "# calculate the accuracy of predictions on training set\n",
    "test_accuracy = metrics.accuracy_score(df_test.quality,test_predictions)"
   ]
  },
  {
   "cell_type": "code",
   "execution_count": 27,
   "id": "761c8f68-463c-4158-a612-999b722190c8",
   "metadata": {
    "tags": []
   },
   "outputs": [
    {
     "name": "stdout",
     "output_type": "stream",
     "text": [
      "train_accuracy:  0.578 \n",
      "test_accuracy:  0.524\n"
     ]
    }
   ],
   "source": [
    "# compare\n",
    "print('train_accuracy: ',round(train_accuracy,3), '\\ntest_accuracy: ', round(test_accuracy,3))"
   ]
  },
  {
   "cell_type": "code",
   "execution_count": 36,
   "id": "9c7c28a6-acb4-47fc-8fa5-44c56846c9cd",
   "metadata": {
    "tags": []
   },
   "outputs": [],
   "source": [
    "# chart out accuracy against max_depth\n",
    "\n",
    "# import scikit-learn tree and metrics\n",
    "from sklearn import tree\n",
    "from sklearn import metrics\n",
    "# import matplotlib and seaborn\n",
    "# for plotting\n",
    "import matplotlib\n",
    "import matplotlib.pyplot as plt\n",
    "import seaborn as sns\n",
    "# this is our global size of label text\n",
    "# on the plots\n",
    "matplotlib.rc('xtick', labelsize=20)\n",
    "matplotlib.rc('ytick', labelsize=20)\n",
    "# This line ensures that the plot is displayed\n",
    "# inside the notebook\n",
    "%matplotlib inline"
   ]
  },
  {
   "cell_type": "code",
   "execution_count": 61,
   "id": "b8cb4070-b126-4ab4-8c1f-407d366021c4",
   "metadata": {
    "tags": []
   },
   "outputs": [],
   "source": [
    "# initialize lists to store accuracies\n",
    "# for training and test data\n",
    "# we start with 50% accuracy\n",
    "train_accuracies = [0.5]\n",
    "test_accuracies = [0.5]"
   ]
  },
  {
   "cell_type": "code",
   "execution_count": 62,
   "id": "d518a026-92fd-4e21-9f27-3bea4bd011dd",
   "metadata": {
    "tags": []
   },
   "outputs": [],
   "source": [
    "# iterate over a few depth values\n",
    "for depth in range(1, 26):\n",
    " # init the model\n",
    " clf = tree.DecisionTreeClassifier(max_depth=depth)\n",
    " # columns/features for training\n",
    " # note that, this can be done outside\n",
    " # the loop\n",
    " cols = [\n",
    " 'fixed acidity',\n",
    " 'volatile acidity',\n",
    " 'citric acid',\n",
    " 'residual sugar',\n",
    " 'chlorides',\n",
    " 'free sulfur dioxide',\n",
    " 'total sulfur dioxide',\n",
    " 'density',\n",
    " 'pH',\n",
    " 'sulphates',\n",
    " 'alcohol'\n",
    " ]\n",
    " # fit the model on given features\n",
    " clf.fit(df_train[cols], df_train.quality)\n",
    " # create training & test predictions\n",
    " train_predictions = clf.predict(df_train[cols])\n",
    " test_predictions = clf.predict(df_test[cols])\n",
    " # calculate training & test accuracies\n",
    " train_accuracy = metrics.accuracy_score(\n",
    " df_train.quality, train_predictions\n",
    " )\n",
    " test_accuracy = metrics.accuracy_score(\n",
    " df_test.quality, test_predictions\n",
    " )\n",
    "\n",
    " # append accuracies\n",
    " train_accuracies.append(train_accuracy)\n",
    " test_accuracies.append(test_accuracy)"
   ]
  },
  {
   "cell_type": "code",
   "execution_count": 64,
   "id": "073e70c1-d919-412f-9f2e-a2112e7f2b2c",
   "metadata": {
    "tags": []
   },
   "outputs": [
    {
     "data": {
      "image/png": "[encoded data removed]",
      "text/plain": [
       "<Figure size 1000x500 with 1 Axes>"
      ]
     },
     "metadata": {},
     "output_type": "display_data"
    }
   ],
   "source": [
    "# create two plots using matplotlib\n",
    "# and seaborn\n",
    "plt.figure(figsize=(10, 5))\n",
    "sns.set_style(\"whitegrid\")\n",
    "plt.plot(train_accuracies, label=\"train accuracy\")\n",
    "plt.plot(test_accuracies, label=\"test accuracy\")\n",
    "plt.legend(loc=\"upper left\", prop={'size': 15})\n",
    "plt.xticks(range(0, 26, 5))\n",
    "plt.xlabel(\"max_depth\", size=20)\n",
    "plt.ylabel(\"accuracy\", size=20)\n",
    "plt.show()"
   ]
  },
  {
   "cell_type": "markdown",
   "id": "7d14232b-0825-4b08-9f66-eef66feaa52a",
   "metadata": {},
   "source": [
    "Thus definition of overfitting can be: the model keeps getting complex, learning about the training data better and better, but the performance of the model on test data does not improve at all. Another definition of overfitting would be when the test loss increases as we keep improving training loss."
   ]
  },
  {
   "cell_type": "markdown",
   "id": "cb470082-b7b2-4275-b5cb-63cdfcd5632c",
   "metadata": {
    "tags": []
   },
   "source": [
    "## Cross-validation"
   ]
  },
  {
   "cell_type": "markdown",
   "id": "adcf580c-251a-47c1-9361-3952745bb17f",
   "metadata": {},
   "source": [
    "Definition: Divide training set into a few parts. Train the model on some of these parts and test on the remaining parts."
   ]
  },
  {
   "cell_type": "markdown",
   "id": "47286ad8-5683-4797-ab12-dac1e486f6ec",
   "metadata": {},
   "source": [
    " - hold-out set: Use when we have a large amount of data and model inference is a time-consuming process; frequently used with time-series data (e.g. use 2018-2021 data in training set, use 2022 data in validation set)\n",
    " - k-fold cross-validation\n",
    " - stratified k-fold cross-validation: go-to choice\n",
    " - leave-one-out cross-validation: used for small datasets (k-fold, k = N, number of samples in the dataset)\n",
    " - group k-fold cross-validation: used when an id has multiple records in the dataset, and you want all records of the same id to all in training set or validation set. Use GroupKFold from scikit-learn."
   ]
  },
  {
   "cell_type": "markdown",
   "id": "bbd9ca86-a4df-4e77-a574-4418262efbcd",
   "metadata": {
    "tags": []
   },
   "source": [
    "### K-fold"
   ]
  },
  {
   "cell_type": "code",
   "execution_count": 66,
   "id": "075ff057-bbf5-4bac-a91c-9f2e5518411e",
   "metadata": {
    "tags": []
   },
   "outputs": [],
   "source": [
    "import pandas as pd\n",
    "from sklearn import model_selection\n",
    "\n",
    "# we create a new column called kfold and fill it with -1\n",
    "df['kfold']= -1"
   ]
  },
  {
   "cell_type": "code",
   "execution_count": 67,
   "id": "9db272c0-4e34-4513-a6f0-ca2b0dad549c",
   "metadata": {
    "tags": []
   },
   "outputs": [],
   "source": [
    "# the next step is to randomize the rows of the data\n",
    "df = df.sample(frac=1).reset_index(drop=True)"
   ]
  },
  {
   "cell_type": "code",
   "execution_count": 69,
   "id": "abeed44e-587b-4429-8bde-0c9d0947550b",
   "metadata": {
    "tags": []
   },
   "outputs": [],
   "source": [
    "# initiate the kfold class from model_selection module\n",
    "kf = model_selection.KFold(n_splits=5)"
   ]
  },
  {
   "cell_type": "code",
   "execution_count": 71,
   "id": "067bf14e-9877-472d-8725-61703a35ad2d",
   "metadata": {
    "tags": []
   },
   "outputs": [
    {
     "data": {
      "text/plain": [
       "<generator object _BaseKFold.split at 0x7f987ea5ced0>"
      ]
     },
     "execution_count": 71,
     "metadata": {},
     "output_type": "execute_result"
    }
   ],
   "source": [
    "kf.split(X=df)"
   ]
  },
  {
   "cell_type": "code",
   "execution_count": 74,
   "id": "c3accd22-53b9-4cc1-8ef6-01c011ebe500",
   "metadata": {
    "tags": []
   },
   "outputs": [],
   "source": [
    "# fill the new kfold column\n",
    "for fold, (trn_, val_) in enumerate(kf.split(X=df)):\n",
    "    df.loc[val_,'kfold'] = fold"
   ]
  },
  {
   "cell_type": "code",
   "execution_count": 76,
   "id": "d9c22c37-ee20-4bdd-a6e0-d22bad2a4bef",
   "metadata": {
    "tags": []
   },
   "outputs": [
    {
     "data": {
      "text/html": [
       "<div>\n",
       "<style scoped>\n",
       "    .dataframe tbody tr th:only-of-type {\n",
       "        vertical-align: middle;\n",
       "    }\n",
       "\n",
       "    .dataframe tbody tr th {\n",
       "        vertical-align: top;\n",
       "    }\n",
       "\n",
       "    .dataframe thead th {\n",
       "        text-align: right;\n",
       "    }\n",
       "</style>\n",
       "<table border=\"1\" class=\"dataframe\">\n",
       "  <thead>\n",
       "    <tr style=\"text-align: right;\">\n",
       "      <th></th>\n",
       "      <th>fixed acidity</th>\n",
       "      <th>volatile acidity</th>\n",
       "      <th>citric acid</th>\n",
       "      <th>residual sugar</th>\n",
       "      <th>chlorides</th>\n",
       "      <th>free sulfur dioxide</th>\n",
       "      <th>total sulfur dioxide</th>\n",
       "      <th>density</th>\n",
       "      <th>pH</th>\n",
       "      <th>sulphates</th>\n",
       "      <th>alcohol</th>\n",
       "      <th>quality</th>\n",
       "      <th>kfold</th>\n",
       "    </tr>\n",
       "  </thead>\n",
       "  <tbody>\n",
       "    <tr>\n",
       "      <th>1594</th>\n",
       "      <td>7.5</td>\n",
       "      <td>0.42</td>\n",
       "      <td>0.31</td>\n",
       "      <td>1.6</td>\n",
       "      <td>0.080</td>\n",
       "      <td>15.0</td>\n",
       "      <td>42.0</td>\n",
       "      <td>0.99780</td>\n",
       "      <td>3.31</td>\n",
       "      <td>0.64</td>\n",
       "      <td>9.0</td>\n",
       "      <td>2</td>\n",
       "      <td>4</td>\n",
       "    </tr>\n",
       "    <tr>\n",
       "      <th>1595</th>\n",
       "      <td>6.9</td>\n",
       "      <td>0.52</td>\n",
       "      <td>0.25</td>\n",
       "      <td>2.6</td>\n",
       "      <td>0.081</td>\n",
       "      <td>10.0</td>\n",
       "      <td>37.0</td>\n",
       "      <td>0.99685</td>\n",
       "      <td>3.46</td>\n",
       "      <td>0.50</td>\n",
       "      <td>11.0</td>\n",
       "      <td>2</td>\n",
       "      <td>4</td>\n",
       "    </tr>\n",
       "    <tr>\n",
       "      <th>1596</th>\n",
       "      <td>12.1</td>\n",
       "      <td>0.40</td>\n",
       "      <td>0.52</td>\n",
       "      <td>2.0</td>\n",
       "      <td>0.092</td>\n",
       "      <td>15.0</td>\n",
       "      <td>54.0</td>\n",
       "      <td>1.00000</td>\n",
       "      <td>3.03</td>\n",
       "      <td>0.66</td>\n",
       "      <td>10.2</td>\n",
       "      <td>2</td>\n",
       "      <td>4</td>\n",
       "    </tr>\n",
       "    <tr>\n",
       "      <th>1597</th>\n",
       "      <td>7.1</td>\n",
       "      <td>0.59</td>\n",
       "      <td>0.01</td>\n",
       "      <td>2.5</td>\n",
       "      <td>0.077</td>\n",
       "      <td>20.0</td>\n",
       "      <td>85.0</td>\n",
       "      <td>0.99746</td>\n",
       "      <td>3.55</td>\n",
       "      <td>0.59</td>\n",
       "      <td>9.8</td>\n",
       "      <td>2</td>\n",
       "      <td>4</td>\n",
       "    </tr>\n",
       "    <tr>\n",
       "      <th>1598</th>\n",
       "      <td>10.9</td>\n",
       "      <td>0.21</td>\n",
       "      <td>0.49</td>\n",
       "      <td>2.8</td>\n",
       "      <td>0.088</td>\n",
       "      <td>11.0</td>\n",
       "      <td>32.0</td>\n",
       "      <td>0.99720</td>\n",
       "      <td>3.22</td>\n",
       "      <td>0.68</td>\n",
       "      <td>11.7</td>\n",
       "      <td>3</td>\n",
       "      <td>4</td>\n",
       "    </tr>\n",
       "  </tbody>\n",
       "</table>\n",
       "</div>"
      ],
      "text/plain": [
       "      fixed acidity  volatile acidity  citric acid  residual sugar  chlorides  \\\n",
       "1594            7.5              0.42         0.31             1.6      0.080   \n",
       "1595            6.9              0.52         0.25             2.6      0.081   \n",
       "1596           12.1              0.40         0.52             2.0      0.092   \n",
       "1597            7.1              0.59         0.01             2.5      0.077   \n",
       "1598           10.9              0.21         0.49             2.8      0.088   \n",
       "\n",
       "      free sulfur dioxide  total sulfur dioxide  density    pH  sulphates  \\\n",
       "1594                 15.0                  42.0  0.99780  3.31       0.64   \n",
       "1595                 10.0                  37.0  0.99685  3.46       0.50   \n",
       "1596                 15.0                  54.0  1.00000  3.03       0.66   \n",
       "1597                 20.0                  85.0  0.99746  3.55       0.59   \n",
       "1598                 11.0                  32.0  0.99720  3.22       0.68   \n",
       "\n",
       "      alcohol  quality  kfold  \n",
       "1594      9.0        2      4  \n",
       "1595     11.0        2      4  \n",
       "1596     10.2        2      4  \n",
       "1597      9.8        2      4  \n",
       "1598     11.7        3      4  "
      ]
     },
     "execution_count": 76,
     "metadata": {},
     "output_type": "execute_result"
    }
   ],
   "source": [
    "df.tail()"
   ]
  },
  {
   "cell_type": "markdown",
   "id": "1c4a1250-1a88-4c1a-af81-8490c62a781a",
   "metadata": {},
   "source": [
    "### Stratified K-fold"
   ]
  },
  {
   "cell_type": "markdown",
   "id": "8fba3bca-a00b-444f-98f1-6e691fa1d9c0",
   "metadata": {},
   "source": [
    "If the dataset is skewed for binary classification with 90% positive samples and only 10% negative samples, using simple k-fold cv can result in folds with all negative samples.\n",
    "<br>\n",
    "Stratified k-folds cv keeps the ratio of labels in each fold constant"
   ]
  },
  {
   "cell_type": "code",
   "execution_count": 82,
   "id": "1f0f2275-03d1-4845-ba5b-7eb8a75ddefe",
   "metadata": {
    "tags": []
   },
   "outputs": [],
   "source": [
    "# we create a new column called kfold and fill it with -1\n",
    "df[\"kfold\"] = -1\n",
    "# the next step is to randomize the rows of the data\n",
    "df = df.sample(frac=1).reset_index(drop=True)\n",
    "# fetch targets\n",
    "y = df.quality.values\n",
    "# initiate the kfold class from model_selection module\n",
    "kf = model_selection.StratifiedKFold(n_splits=5)\n",
    "# fill the new kfold column\n",
    "for f, (t_, v_) in enumerate(kf.split(X=df, y=y)):\n",
    "    df.loc[v_, 'kfold'] = f"
   ]
  },
  {
   "cell_type": "code",
   "execution_count": 84,
   "id": "4178c5d4-608b-4933-a4f5-1ca59893f822",
   "metadata": {
    "tags": []
   },
   "outputs": [
    {
     "data": {
      "text/plain": [
       "quality\n",
       "0      2\n",
       "1     11\n",
       "2    136\n",
       "3    128\n",
       "4     39\n",
       "5      4\n",
       "dtype: int64"
      ]
     },
     "execution_count": 84,
     "metadata": {},
     "output_type": "execute_result"
    }
   ],
   "source": [
    "# check the distribution of fold 1\n",
    "df[df['kfold']==1].groupby('quality').size()"
   ]
  },
  {
   "cell_type": "code",
   "execution_count": 85,
   "id": "e7ae2cb8-12ac-45da-b2c8-5e25dffd3704",
   "metadata": {
    "tags": []
   },
   "outputs": [
    {
     "data": {
      "text/plain": [
       "quality\n",
       "0     10\n",
       "1     53\n",
       "2    681\n",
       "3    638\n",
       "4    199\n",
       "5     18\n",
       "dtype: int64"
      ]
     },
     "execution_count": 85,
     "metadata": {},
     "output_type": "execute_result"
    }
   ],
   "source": [
    "# check the overall distribution\n",
    "df.groupby('quality').size()"
   ]
  },
  {
   "cell_type": "code",
   "execution_count": 89,
   "id": "5bf92e3f-27fd-44df-920d-5c4b3a5f4973",
   "metadata": {
    "tags": []
   },
   "outputs": [
    {
     "data": {
      "text/plain": [
       "Text(0, 0.5, 'count')"
      ]
     },
     "execution_count": 89,
     "metadata": {},
     "output_type": "execute_result"
    },
    {
     "data": {
      "image/png": "[encoded data removed]",
      "text/plain": [
       "<Figure size 640x480 with 1 Axes>"
      ]
     },
     "metadata": {},
     "output_type": "display_data"
    }
   ],
   "source": [
    "# check overall distribution by countplot\n",
    "b = sns.countplot(x = 'quality', data = df)\n",
    "b.set_xlabel(\"quality\", fontsize = 20)\n",
    "b.set_ylabel(\"count\",fontsize = 20)"
   ]
  },
  {
   "cell_type": "markdown",
   "id": "ddc2dbbc-3a7a-402c-a329-a90879bd0d8e",
   "metadata": {},
   "source": [
    "If it's a standard classification problem, choose stratified k-fold blindly."
   ]
  },
  {
   "cell_type": "markdown",
   "id": "29076a3c-6f4b-4b21-abcb-bd4cfb1e0e19",
   "metadata": {
    "tags": []
   },
   "source": [
    "To use stratified k-fold for a regression problem: \n",
    "<br>\n",
    "we have first to divide the target into bins, and then we can use stratified k-fold in the same way as for classification problems. There are several choices for selecting the appropriate number of bins. If you have a lot of samples( > 10k, > 100k), then you don’t need to care about the number of bins. Just divide the data into 10 or 20 bins. If you do not have a lot of samples, you can use a simple rule like Sturge’s Rule to calculate the appropriate number of bins.\n",
    "<br>\n",
    "Number of Bins = 1 + log2(N)"
   ]
  },
  {
   "cell_type": "code",
   "execution_count": 91,
   "id": "c873c7e7-ef0c-40f7-bb79-f720abd9ceb6",
   "metadata": {
    "tags": []
   },
   "outputs": [],
   "source": [
    "# stratified-kfold for regression\n",
    "import numpy as np\n",
    "import pandas as pd\n",
    "from sklearn import datasets\n",
    "from sklearn import model_selection"
   ]
  },
  {
   "cell_type": "code",
   "execution_count": 93,
   "id": "94d6fc30-b1ea-4746-a49f-e6c967c67e4a",
   "metadata": {
    "tags": []
   },
   "outputs": [],
   "source": [
    "def create_folds(data):\n",
    " # we create a new column called kfold and fill it with -1\n",
    "    data[\"kfold\"] = -1\n",
    "\n",
    " # the next step is to randomize the rows of the data\n",
    "    data = data.sample(frac=1).reset_index(drop=True)\n",
    " # calculate the number of bins by Sturge's rule\n",
    " # I take the floor of the value, you can also\n",
    " # just round it\n",
    "    num_bins = int(np.floor(1 + np.log2(len(data))))\n",
    " # bin targets\n",
    "    data.loc[:, \"bins\"] = pd.cut(\n",
    "    data[\"target\"], bins=num_bins, labels=False\n",
    "    )\n",
    "\n",
    " # initiate the kfold class from model_selection module\n",
    "    kf = model_selection.StratifiedKFold(n_splits=5)\n",
    "\n",
    " # fill the new kfold column\n",
    " # note that, instead of targets, we use bins!\n",
    "    for f, (t_, v_) in enumerate(kf.split(X=data, y=data.bins.values)):\n",
    "        data.loc[v_, 'kfold'] = f\n",
    "\n",
    " # drop the bins column\n",
    "    data = data.drop(\"bins\", axis=1)\n",
    " # return dataframe with folds\n",
    "    return data"
   ]
  },
  {
   "cell_type": "code",
   "execution_count": 94,
   "id": "81c22d8c-4130-4fd5-b4a6-c5dd03047f95",
   "metadata": {
    "tags": []
   },
   "outputs": [
    {
     "name": "stderr",
     "output_type": "stream",
     "text": [
      "/opt/conda/lib/python3.7/site-packages/sklearn/model_selection/_split.py:680: UserWarning: The least populated class in y has only 2 members, which is less than n_splits=5.\n",
      "  UserWarning,\n"
     ]
    }
   ],
   "source": [
    " X, y = datasets.make_regression(\n",
    " n_samples=15000, n_features=100, n_targets=1\n",
    " )\n",
    " # create a dataframe out of our numpy arrays\n",
    " df = pd.DataFrame(\n",
    " X,\n",
    " columns=[f\"f_{i}\" for i in range(X.shape[1])]\n",
    " )\n",
    " df.loc[:, \"target\"] = y\n",
    " # create folds\n",
    " df = create_folds(df)"
   ]
  },
  {
   "cell_type": "code",
   "execution_count": 98,
   "id": "52a53186-3edc-4164-b68e-f9bc77b7ab29",
   "metadata": {
    "tags": []
   },
   "outputs": [
    {
     "data": {
      "text/plain": [
       "kfold\n",
       "0   -0.566333\n",
       "1   -0.514455\n",
       "2   -0.177011\n",
       "3   -1.110170\n",
       "4   -0.812885\n",
       "Name: target, dtype: float64"
      ]
     },
     "execution_count": 98,
     "metadata": {},
     "output_type": "execute_result"
    }
   ],
   "source": [
    "df.groupby('kfold')['target'].mean()"
   ]
  },
  {
   "cell_type": "markdown",
   "id": "ca976c6d-a92e-41a8-9a7e-e71c8870cb65",
   "metadata": {},
   "source": [
    "Open Question: Scikit-learn cannot combine GroupKFold with StratifiedKFold. How to do that?"
   ]
  },
  {
   "cell_type": "code",
   "execution_count": 103,
   "id": "1be861bd-95e6-41d5-ac87-8a299ce2cf1a",
   "metadata": {
    "tags": []
   },
   "outputs": [],
   "source": [
    "def stratified_group_k_fold(X, y, groups, k, seed=None):\n",
    "    \"\"\"Source: https://www.kaggle.com/jakubwasikowski/stratified-group-k-fold-cross-validation \"\"\"\n",
    "    labels_num = np.max(y) + 1\n",
    "    y_counts_per_group = collections.defaultdict(lambda: np.zeros(labels_num))\n",
    "    y_distr = collections.Counter()\n",
    "    for label, g in zip(y, groups):\n",
    "        y_counts_per_group[g][label] += 1\n",
    "        y_distr[label] += 1\n",
    "\n",
    "    y_counts_per_fold = collections.defaultdict(lambda: np.zeros(labels_num))\n",
    "    groups_per_fold = collections.defaultdict(set)\n",
    "\n",
    "    def eval_y_counts_per_fold(y_counts, fold):\n",
    "        y_counts_per_fold[fold] += y_counts\n",
    "        std_per_label = []\n",
    "        for label in range(labels_num):\n",
    "            label_std = np.std([y_counts_per_fold[i][label] / y_distr[label] for i in range(k)])\n",
    "            std_per_label.append(label_std)\n",
    "        y_counts_per_fold[fold] -= y_counts\n",
    "        return np.mean(std_per_label)\n",
    "\n",
    "    groups_and_y_counts = list(y_counts_per_group.items())\n",
    "    random.Random(seed).shuffle(groups_and_y_counts)\n",
    "\n",
    "    for g, y_counts in sorted(groups_and_y_counts, key=lambda x: -np.std(x[1])):\n",
    "        best_fold = None\n",
    "        min_eval = None\n",
    "        for i in range(k):\n",
    "            fold_eval = eval_y_counts_per_fold(y_counts, i)\n",
    "            if min_eval is None or fold_eval < min_eval:\n",
    "                min_eval = fold_eval\n",
    "                best_fold = i\n",
    "        y_counts_per_fold[best_fold] += y_counts\n",
    "        groups_per_fold[best_fold].add(g)\n",
    "\n",
    "    all_groups = set(groups)\n",
    "    for i in range(k):\n",
    "        train_groups = all_groups - groups_per_fold[i]\n",
    "        test_groups = groups_per_fold[i]\n",
    "\n",
    "        train_indices = [i for i, g in enumerate(groups) if g in train_groups]\n",
    "        test_indices = [i for i, g in enumerate(groups) if g in test_groups]\n",
    "\n",
    "        yield train_indices, test_indices"
   ]
  },
  {
   "cell_type": "code",
   "execution_count": null,
   "id": "bd29c32f-2436-4538-a5b2-b1929eee424d",
   "metadata": {},
   "outputs": [],
   "source": []
  }
 ],
 "metadata": {
  "environment": {
   "kernel": "python3",
   "name": "common-cpu.m109",
   "type": "gcloud",
   "uri": "gcr.io/deeplearning-platform-release/base-cpu:m109"
  },
  "kernelspec": {
   "display_name": "Python 3",
   "language": "python",
   "name": "python3"
  },
  "language_info": {
   "codemirror_mode": {
    "name": "ipython",
    "version": 3
   },
   "file_extension": ".py",
   "mimetype": "text/x-python",
   "name": "python",
   "nbconvert_exporter": "python",
   "pygments_lexer": "ipython3",
   "version": "3.7.12"
  }
 },
 "nbformat": 4,
 "nbformat_minor": 5
}
